{
 "cells": [
  {
   "cell_type": "markdown",
   "metadata": {
    "colab_type": "text",
    "id": "hEQ1ErpCpGL8"
   },
   "source": [
    "# BBM 467 Small Data Science Project\n",
    "\n",
    "#### 21627601 Muhammet Subasi\n",
    "#### 21627045 Harun Burkuk\n",
    "\n"
   ]
  },
  {
   "cell_type": "code",
   "execution_count": 1,
   "metadata": {
    "colab": {},
    "colab_type": "code",
    "id": "gFoSCM0ipGL-"
   },
   "outputs": [],
   "source": [
    "import pandas as pd\n",
    "import numpy as np\n",
    "from sklearn.feature_selection import SelectKBest, chi2\n",
    "from sklearn.linear_model import LogisticRegression\n",
    "from sklearn.model_selection import train_test_split\n",
    "from sklearn.metrics import accuracy_score\n",
    "from sklearn.metrics import confusion_matrix\n",
    "from sklearn.metrics import classification_report\n",
    "import seaborn as sns\n",
    "import pickle\n",
    "import matplotlib.pyplot as plt\n",
    "import warnings\n",
    "warnings.filterwarnings(\"ignore\")"
   ]
  },
  {
   "cell_type": "markdown",
   "metadata": {
    "colab_type": "text",
    "id": "8YmERLjspGMH"
   },
   "source": [
    "## Table of Content\n",
    "\n",
    "[Purpose](#purpose) \n",
    "\n",
    "[Data Understanding](#data_understanding) \n",
    "\n",
    "[Data Preparation](#data_preparation)   \n",
    "\n",
    "[Model](#model)  \n",
    "\n",
    "[Evaluation](#evaluation)\n",
    "\n",
    "[Web Interface](\"webinterface\")\n",
    "\n",
    "[References](#references)   \n"
   ]
  },
  {
   "cell_type": "markdown",
   "metadata": {
    "colab_type": "text",
    "id": "clDpC-2kpGMR"
   },
   "source": [
    "## Purpose <a class=\"anchor\" id=\"purpose\"></a>"
   ]
  },
  {
   "cell_type": "markdown",
   "metadata": {
    "colab_type": "text",
    "id": "It7OxV2ypGMS"
   },
   "source": [
    "There are some diseases that are hard to diagnose by physicians. For instance, the disease may be rare and the physician responsible has no experience with that disease whatsoever. In this project we will create a web interface that takes features as input from the user then our model will predict the probability of the patient's disease type and show these probabilities to the doctor or health officer responsible for diagnosing."
   ]
  },
  {
   "cell_type": "markdown",
   "metadata": {
    "colab_type": "text",
    "id": "JuZmF4SvpGMc"
   },
   "source": [
    "## Data Understanding<a class=\"anchor\" id=\"data_understanding\"></a>"
   ]
  },
  {
   "cell_type": "code",
   "execution_count": 2,
   "metadata": {
    "colab": {},
    "colab_type": "code",
    "id": "kJENPg1KpGMd"
   },
   "outputs": [
    {
     "name": "stdout",
     "output_type": "stream",
     "text": [
      "(400, 51)\n"
     ]
    }
   ],
   "source": [
    "pd.set_option('display.expand_frame_repr', False)\n",
    "pd.set_option('display.max_rows', None)\n",
    "df = pd.read_excel(\"sdsp_patients.xlsx\", engine='openpyxl')\n",
    "print(df.shape)"
   ]
  },
  {
   "cell_type": "markdown",
   "metadata": {
    "colab_type": "text",
    "id": "iOGsFQmupGMj"
   },
   "source": [
    "As you can see from the shape of the data, dataset contains 400 samples and 51 columns."
   ]
  },
  {
   "cell_type": "code",
   "execution_count": 3,
   "metadata": {
    "colab": {},
    "colab_type": "code",
    "id": "gSVhVQfBpGMk"
   },
   "outputs": [
    {
     "name": "stdout",
     "output_type": "stream",
     "text": [
      "<class 'pandas.core.frame.DataFrame'>\n",
      "RangeIndex: 400 entries, 0 to 399\n",
      "Data columns (total 51 columns):\n",
      " #   Column      Non-Null Count  Dtype  \n",
      "---  ------      --------------  -----  \n",
      " 0   Disease     400 non-null    object \n",
      " 1   Feature_1   400 non-null    object \n",
      " 2   Feature_2   400 non-null    float64\n",
      " 3   Feature_3   400 non-null    object \n",
      " 4   Feature_4   400 non-null    float64\n",
      " 5   Feature_5   400 non-null    float64\n",
      " 6   Feature_6   400 non-null    object \n",
      " 7   Feature_7   400 non-null    object \n",
      " 8   Feature_8   400 non-null    object \n",
      " 9   Feature_9   400 non-null    object \n",
      " 10  Feature_10  400 non-null    object \n",
      " 11  Feature_11  400 non-null    object \n",
      " 12  Feature_12  400 non-null    object \n",
      " 13  Feature_13  400 non-null    object \n",
      " 14  Feature_14  400 non-null    object \n",
      " 15  Feature_15  400 non-null    object \n",
      " 16  Feature_16  400 non-null    object \n",
      " 17  Feature_17  400 non-null    object \n",
      " 18  Feature_18  400 non-null    object \n",
      " 19  Feature_19  400 non-null    object \n",
      " 20  Feature_20  400 non-null    object \n",
      " 21  Feature_21  400 non-null    object \n",
      " 22  Feature_22  400 non-null    object \n",
      " 23  Feature_23  400 non-null    object \n",
      " 24  Feature_24  400 non-null    object \n",
      " 25  Feature_25  400 non-null    object \n",
      " 26  Feature_26  400 non-null    object \n",
      " 27  Feature_27  400 non-null    object \n",
      " 28  Feature_28  399 non-null    object \n",
      " 29  Feature_29  400 non-null    object \n",
      " 30  Feature_30  400 non-null    object \n",
      " 31  Feature_31  400 non-null    object \n",
      " 32  Feature_32  384 non-null    object \n",
      " 33  Feature_33  388 non-null    object \n",
      " 34  Feature_34  400 non-null    object \n",
      " 35  Feature_35  357 non-null    object \n",
      " 36  Feature_36  141 non-null    object \n",
      " 37  Feature_37  400 non-null    object \n",
      " 38  Feature_38  400 non-null    object \n",
      " 39  Feature_39  400 non-null    object \n",
      " 40  Feature_40  400 non-null    object \n",
      " 41  Feature_41  400 non-null    object \n",
      " 42  Feature_42  400 non-null    object \n",
      " 43  Feature_43  400 non-null    object \n",
      " 44  Feature_44  400 non-null    int64  \n",
      " 45  Feature_45  400 non-null    object \n",
      " 46  Feature_46  400 non-null    object \n",
      " 47  Feature_47  400 non-null    object \n",
      " 48  Feature_48  400 non-null    object \n",
      " 49  Feature_49  400 non-null    object \n",
      " 50  Feature_50  400 non-null    object \n",
      "dtypes: float64(3), int64(1), object(47)\n",
      "memory usage: 159.5+ KB\n",
      "None\n"
     ]
    }
   ],
   "source": [
    "print(df.info())"
   ]
  },
  {
   "cell_type": "markdown",
   "metadata": {},
   "source": [
    "Now we can see the columns of the dataset, their names and their types. Dataset contains 51 columns, one of the columns is 'Disease' which our target(label) column, other columns are our features, there are 50 feature in dataset."
   ]
  },
  {
   "cell_type": "code",
   "execution_count": 4,
   "metadata": {},
   "outputs": [
    {
     "name": "stdout",
     "output_type": "stream",
     "text": [
      "Disease_1    244\n",
      "Disease_3     78\n",
      "Disease_2     52\n",
      "Disease_4     26\n",
      "Name: Disease, dtype: int64\n"
     ]
    },
    {
     "data": {
      "image/png": "[encoded data removed]",
      "text/plain": [
       "<Figure size 432x288 with 1 Axes>"
      ]
     },
     "metadata": {
      "needs_background": "light"
     },
     "output_type": "display_data"
    }
   ],
   "source": [
    "print(df['Disease'].value_counts())\n",
    "ax = df['Disease'].value_counts().plot(kind=\"bar\", rot=0)\n",
    "ax.title.set_text('Diseases Count')"
   ]
  },
  {
   "cell_type": "markdown",
   "metadata": {},
   "source": [
    "You can see the distrubution of the Diaseases type. There are 244 Disease_1, 78 Disease_3, 52 Disease_2 and finally 26 Disease_4 in the dataset."
   ]
  },
  {
   "cell_type": "markdown",
   "metadata": {
    "colab_type": "text",
    "id": "nqcRgLxhpGMq"
   },
   "source": [
    "## Data Preparation<a class=\"anchor\" id=\"data_preparation\"></a>"
   ]
  },
  {
   "cell_type": "code",
   "execution_count": 5,
   "metadata": {
    "colab": {},
    "colab_type": "code",
    "id": "Ap-mzlH1pGMs"
   },
   "outputs": [
    {
     "name": "stdout",
     "output_type": "stream",
     "text": [
      "<class 'pandas.core.frame.DataFrame'>\n",
      "RangeIndex: 400 entries, 0 to 399\n",
      "Data columns (total 49 columns):\n",
      " #   Column      Non-Null Count  Dtype  \n",
      "---  ------      --------------  -----  \n",
      " 0   Disease     400 non-null    int64  \n",
      " 1   Gender      400 non-null    int64  \n",
      " 2   Feature_2   400 non-null    float64\n",
      " 3   Feature_3   400 non-null    float64\n",
      " 4   Feature_4   400 non-null    float64\n",
      " 5   Feature_5   400 non-null    float64\n",
      " 6   Feature_6   400 non-null    int64  \n",
      " 7   Feature_7   400 non-null    int64  \n",
      " 8   Feature_8   400 non-null    int64  \n",
      " 9   Feature_9   400 non-null    int64  \n",
      " 10  Feature_10  400 non-null    int64  \n",
      " 11  Feature_11  400 non-null    int64  \n",
      " 12  Feature_12  400 non-null    int64  \n",
      " 13  Feature_13  400 non-null    int64  \n",
      " 14  Feature_14  400 non-null    int64  \n",
      " 15  Feature_15  400 non-null    int64  \n",
      " 16  Feature_16  400 non-null    int64  \n",
      " 17  Feature_17  400 non-null    int64  \n",
      " 18  Feature_18  400 non-null    int64  \n",
      " 19  Feature_19  400 non-null    int64  \n",
      " 20  Feature_20  400 non-null    int64  \n",
      " 21  Feature_21  400 non-null    int64  \n",
      " 22  Feature_22  400 non-null    int64  \n",
      " 23  Feature_23  400 non-null    int64  \n",
      " 24  Feature_24  400 non-null    int64  \n",
      " 25  Feature_25  400 non-null    int64  \n",
      " 26  Feature_26  400 non-null    int64  \n",
      " 27  Feature_27  400 non-null    int64  \n",
      " 28  Feature_28  400 non-null    float64\n",
      " 29  Feature_29  400 non-null    int64  \n",
      " 30  Feature_30  400 non-null    int64  \n",
      " 31  Feature_31  400 non-null    int64  \n",
      " 32  Feature_32  400 non-null    float64\n",
      " 33  Feature_33  400 non-null    float64\n",
      " 34  Feature_34  400 non-null    int64  \n",
      " 35  Feature_37  400 non-null    int64  \n",
      " 36  Feature_38  400 non-null    int64  \n",
      " 37  Feature_39  400 non-null    int64  \n",
      " 38  Feature_40  400 non-null    int64  \n",
      " 39  Feature_41  400 non-null    int64  \n",
      " 40  Feature_42  400 non-null    int64  \n",
      " 41  Feature_43  400 non-null    int64  \n",
      " 42  Feature_44  400 non-null    int64  \n",
      " 43  Feature_45  400 non-null    int64  \n",
      " 44  Feature_46  400 non-null    int64  \n",
      " 45  Feature_47  400 non-null    float64\n",
      " 46  Feature_48  400 non-null    float64\n",
      " 47  Feature_49  400 non-null    float64\n",
      " 48  Feature_50  400 non-null    float64\n",
      "dtypes: float64(11), int64(38)\n",
      "memory usage: 153.2 KB\n",
      "None\n"
     ]
    }
   ],
   "source": [
    "# Fill or drop NaN values\n",
    "df = df.apply(lambda x: x.str.strip() if isinstance(x, str) else x).replace(' ', np.nan)\n",
    "df = df.loc[:, df.isin(['', np.NaN, np.nan]).mean() < .09]\n",
    "\n",
    "# replace all non-numeric feature values with numeric values\n",
    "df = df.replace('Yes', 1)\n",
    "df = df.replace('No', 0)\n",
    "df = df.replace('Male', 1)\n",
    "df = df.replace('Female', 0)\n",
    "val_rep = {'Every Day': 0, '1-2 Days a Week': 1, '3-4 Days a Week': 2, '1-2 Days a Month': 3}\n",
    "df['Feature_28'] = df['Feature_28'].map(val_rep)\n",
    "val_rep = {'No Difference': 0, 'Evenings': 2, 'Mornings': 1}\n",
    "df['Feature_29'] = df['Feature_29'].map(val_rep)\n",
    "val_rep = {'Disease_1': 1, 'Disease_2': 2, 'Disease_3': 3, 'Disease_4': 4}\n",
    "df['Disease'] = df['Disease'].map(val_rep)\n",
    "df = df.rename(columns={'Feature_1': 'Gender'})\n",
    "\n",
    "# fill empty values with column mean\n",
    "df['Feature_28'] = df['Feature_28'].fillna(round(df['Feature_28'].mean()))\n",
    "df['Feature_32'] = df['Feature_32'].fillna(round(df['Feature_32'].mean()))\n",
    "df['Feature_33'] = df['Feature_33'].fillna(round(df['Feature_33'].mean()))\n",
    "df['Feature_3'] = df['Feature_3'].fillna(round(df['Feature_3'].mean()))\n",
    "df['Feature_47'] = df['Feature_47'].fillna(round(df['Feature_47'].mean()))\n",
    "df['Feature_48'] = df['Feature_48'].fillna(round(df['Feature_48'].mean()))\n",
    "df['Feature_49'] = df['Feature_49'].fillna(round(df['Feature_49'].mean()))\n",
    "df['Feature_50'] = df['Feature_50'].fillna(round(df['Feature_50'].mean()))\n",
    "\n",
    "# final form of data\n",
    "df['Feature_3'] = pd.to_numeric(df['Feature_3'])\n",
    "df['Feature_47'] = pd.to_numeric(df['Feature_47'])\n",
    "df['Feature_48'] = pd.to_numeric(df['Feature_48'])\n",
    "df['Feature_49'] = pd.to_numeric(df['Feature_49'])\n",
    "df['Feature_50'] = pd.to_numeric(df['Feature_50'])\n",
    "print(df.info())"
   ]
  },
  {
   "cell_type": "markdown",
   "metadata": {
    "colab_type": "text",
    "id": "npkR3Wq7pGMx"
   },
   "source": [
    "In data preparation part, first of all, since it is a excel based dataset null values are just empty so we have to convert that empty values to NaN values. Then in the dataset there are multiple colmuns that mostly empty so we have to drop them because filling them will not be suffeficient. Then we have to replace columns which contains string values in order to apply machine learning models. Then we can fill NaN values with mean values of the columns to make sure that there is no NaN values in our dataset. Finally we are converting column types to numerical so that all columns are numeraical. You can see the final form of the dataset above."
   ]
  },
  {
   "cell_type": "code",
   "execution_count": 6,
   "metadata": {
    "colab": {},
    "colab_type": "code",
    "id": "PXaCg0CJpGMy"
   },
   "outputs": [],
   "source": [
    "X = df.iloc[:, 1:49]  # independent columns\n",
    "y = df.iloc[:, 0]  # target column - disease_number"
   ]
  },
  {
   "cell_type": "markdown",
   "metadata": {},
   "source": [
    "##### Functions for feature selection"
   ]
  },
  {
   "cell_type": "code",
   "execution_count": 7,
   "metadata": {},
   "outputs": [
    {
     "data": {
      "image/png": "[encoded data removed]",
      "text/plain": [
       "<Figure size 432x288 with 1 Axes>"
      ]
     },
     "metadata": {
      "needs_background": "light"
     },
     "output_type": "display_data"
    }
   ],
   "source": [
    "from sklearn.feature_selection import chi2\n",
    "from sklearn.ensemble import RandomForestClassifier\n",
    "from sklearn import metrics\n",
    "def make_feature_selection(X, y, k_num):\n",
    "    fs = SelectKBest(score_func=chi2, k=k_num)\n",
    "    return fs.fit_transform(X, y)\n",
    "\n",
    "def ft_slc_eva():\n",
    "    acc_list = []\n",
    "    k = [12,16,20,24,30,36,42,48]\n",
    "    for i in k:\n",
    "        KBest_feature_selection = make_feature_selection(X, y, i)\n",
    "        X_train, X_test, y_train, y_test = train_test_split(KBest_feature_selection, y, test_size=0.2,\n",
    "                                                            random_state=0)\n",
    "        rfc = LogisticRegression(solver='lbfgs', max_iter=4000, random_state=0)\n",
    "        rfc.fit(X_train, y_train)\n",
    "        rfc_predict = rfc.predict(X_test)\n",
    "        acc = metrics.accuracy_score(y_test, rfc_predict)\n",
    "        percentage = acc * 100\n",
    "        formatted = \"{:.2f}\".format(percentage)\n",
    "        acc_list.append(formatted)\n",
    "\n",
    "    # Plot Feature Number - Accuracy Rate\n",
    "    acc_list.sort(reverse=True)\n",
    "    plt.plot(k, acc_list, color='red', marker='o')\n",
    "    plt.xlabel('Feature Number', fontsize=14)\n",
    "    plt.ylabel('Accuracy Rate', fontsize=14)\n",
    "    plt.gca().invert_yaxis()\n",
    "    plt.grid(True)\n",
    "    plt.show()\n",
    "\n",
    "\n",
    "ft_slc_eva()"
   ]
  },
  {
   "cell_type": "code",
   "execution_count": 8,
   "metadata": {},
   "outputs": [
    {
     "name": "stdout",
     "output_type": "stream",
     "text": [
      "Feature  1\n",
      "Feature  2\n",
      "Feature  3\n",
      "Feature  4\n",
      "Feature  27\n",
      "Feature  28\n",
      "Feature  34\n",
      "Feature  36\n",
      "Feature  37\n",
      "Feature  38\n",
      "Feature  40\n",
      "Feature  47\n"
     ]
    }
   ],
   "source": [
    "# KBest feature importance\n",
    "fs = SelectKBest(score_func=chi2, k=12)\n",
    "fs.fit(X, y)\n",
    "\n",
    "selected_features = fs.get_support(indices=True)\n",
    "for i in selected_features:\n",
    "    print(\"Feature \", i)\n",
    "    \n",
    "new_X = X.iloc[:, selected_features]\n",
    "\n",
    "# add Gender to the selected_features\n",
    "new_X['Gender'] = df['Gender'].values\n",
    "new_y = df['Disease']"
   ]
  },
  {
   "cell_type": "markdown",
   "metadata": {},
   "source": [
    "As a final part of the data preparation we apply feature selection. We used SelecktKBest algorithm for this application. We tried with couple number of features and as you can see from the graph 12 best features are optimal for our dataset increasing or decreasing the number of features will not improve out accuracy rate so we will use 12 features for our model. Lastly you see the features that we will use in the above."
   ]
  },
  {
   "cell_type": "markdown",
   "metadata": {
    "colab_type": "text",
    "id": "2ebDW7Pl9xkV"
   },
   "source": [
    "\n",
    "## Model<a class=\"anchor\" id=\"model\"></a>"
   ]
  },
  {
   "cell_type": "code",
   "execution_count": 9,
   "metadata": {
    "colab": {},
    "colab_type": "code",
    "id": "f0t3y0Gh-iY8"
   },
   "outputs": [],
   "source": [
    "# use inbuilt method feature_importances of tree based classifiers\n",
    "X_train, X_test, y_train, y_test = train_test_split(new_X, y, random_state=1, test_size=0.20)\n",
    "\n",
    "clf = LogisticRegression(solver='lbfgs', max_iter=4000, random_state=0).fit(new_X, new_y)"
   ]
  },
  {
   "cell_type": "markdown",
   "metadata": {
    "colab_type": "text",
    "id": "osXXZDxS-hVD"
   },
   "source": [
    "We will use LogisticRegression for this project we tried different model and see that LogisticRegression is the best one so far and one of the fast ones."
   ]
  },
  {
   "cell_type": "code",
   "execution_count": 10,
   "metadata": {},
   "outputs": [],
   "source": [
    "# pickle_out = open(\"classifier.pkl\", mode = \"wb\")\n",
    "# pickle.dump(clf, pickle_out)\n",
    "# pickle_out.close()"
   ]
  },
  {
   "cell_type": "markdown",
   "metadata": {},
   "source": [
    "Then we are saving this model for our website interface. Since we already do that this part will shown in this report as comment"
   ]
  },
  {
   "cell_type": "markdown",
   "metadata": {
    "colab_type": "text",
    "id": "1Vxg2ptipGNZ"
   },
   "source": [
    "## Evaluation<a class=\"anchor\" id=\"evaluation\"></a>"
   ]
  },
  {
   "cell_type": "code",
   "execution_count": 11,
   "metadata": {
    "colab": {},
    "colab_type": "code",
    "id": "jpLkiP1xpGNa"
   },
   "outputs": [
    {
     "name": "stdout",
     "output_type": "stream",
     "text": [
      "accuracy score = 97.5%\n"
     ]
    }
   ],
   "source": [
    "predictions = clf.predict(X_test)\n",
    "result = accuracy_score(predictions,y_test)\n",
    "print(\"accuracy score = {}%\".format(result*100))"
   ]
  },
  {
   "cell_type": "code",
   "execution_count": 12,
   "metadata": {
    "colab": {},
    "colab_type": "code",
    "id": "qREn94uEpGNy"
   },
   "outputs": [
    {
     "data": {
      "image/png": "[encoded data removed]",
      "text/plain": [
       "<Figure size 432x288 with 2 Axes>"
      ]
     },
     "metadata": {
      "needs_background": "light"
     },
     "output_type": "display_data"
    }
   ],
   "source": [
    "cf_matrix = confusion_matrix(y_test,predictions)\n",
    "sns.heatmap(cf_matrix,annot=True)\n",
    "plt.show()"
   ]
  },
  {
   "cell_type": "code",
   "execution_count": 13,
   "metadata": {},
   "outputs": [
    {
     "name": "stdout",
     "output_type": "stream",
     "text": [
      "              precision    recall  f1-score   support\n",
      "\n",
      "           1       0.96      1.00      0.98        53\n",
      "           2       1.00      0.85      0.92        13\n",
      "           3       1.00      1.00      1.00         9\n",
      "           4       1.00      1.00      1.00         5\n",
      "\n",
      "    accuracy                           0.97        80\n",
      "   macro avg       0.99      0.96      0.97        80\n",
      "weighted avg       0.98      0.97      0.97        80\n",
      "\n"
     ]
    }
   ],
   "source": [
    "print(classification_report(y_test, predictions))"
   ]
  },
  {
   "cell_type": "markdown",
   "metadata": {},
   "source": [
    "As you can see from above, our model is really successful. 97% accuracy rate and f1-scores are quite good as well."
   ]
  },
  {
   "cell_type": "markdown",
   "metadata": {},
   "source": [
    "## Web Interface<a class=\"anchor\" id=\"webinterface\"></a>"
   ]
  },
  {
   "cell_type": "markdown",
   "metadata": {},
   "source": [
    "In web interface side, we use Streamlit. We connect in localhost:8501 port(1) but it can be changed Streamlit gives that automatically. There are several input style. We use one to get gender information(2)."
   ]
  },
  {
   "attachments": {
    "first.png": {
     "image/png": "[encoded data removed]"
    }
   },
   "cell_type": "markdown",
   "metadata": {},
   "source": [
    "![first.png](attachment:first.png)"
   ]
  },
  {
   "cell_type": "markdown",
   "metadata": {},
   "source": [
    "Some input parts are prepared to get numeric numbers from the user."
   ]
  },
  {
   "attachments": {
    "second.png": {
     "image/png": "[encoded data removed]"
    }
   },
   "cell_type": "markdown",
   "metadata": {},
   "source": [
    "![second.png](attachment:second.png)"
   ]
  },
  {
   "cell_type": "markdown",
   "metadata": {},
   "source": [
    "Some input parts prepared multiple choice responses from the user."
   ]
  },
  {
   "attachments": {
    "third.png": {
     "image/png": "[encoded data removed]"
    }
   },
   "cell_type": "markdown",
   "metadata": {},
   "source": [
    "![third.png](attachment:third.png)"
   ]
  },
  {
   "cell_type": "markdown",
   "metadata": {},
   "source": [
    "Some input parts are prepared to get a yes and no answer from the user."
   ]
  },
  {
   "attachments": {
    "fourth.png": {
     "image/png": "[encoded data removed]"
    }
   },
   "cell_type": "markdown",
   "metadata": {},
   "source": [
    "![fourth.png](attachment:fourth.png)"
   ]
  },
  {
   "cell_type": "markdown",
   "metadata": {},
   "source": [
    "When you clicked the \"Predict\" button you will see top three Disease Probabilities."
   ]
  },
  {
   "attachments": {
    "fifth.png": {
     "image/png": "[encoded data removed]"
    }
   },
   "cell_type": "markdown",
   "metadata": {},
   "source": [
    "![fifth.png](attachment:fifth.png)"
   ]
  },
  {
   "cell_type": "markdown",
   "metadata": {},
   "source": [
    "(1) Predict Button\n",
    "(2) Reset Button : When you clicked, all your answers return to default."
   ]
  },
  {
   "attachments": {
    "sixth.png": {
     "image/png": "[encoded data removed]"
    }
   },
   "cell_type": "markdown",
   "metadata": {},
   "source": [
    "![sixth.png](attachment:sixth.png)"
   ]
  },
  {
   "cell_type": "markdown",
   "metadata": {
    "colab_type": "text",
    "id": "e-4dIZj6pGN4"
   },
   "source": [
    "## References<a class=\"anchor\" id=\"references\"></a>"
   ]
  },
  {
   "cell_type": "markdown",
   "metadata": {
    "colab": {},
    "colab_type": "code",
    "id": "2LhJNQYopGN5"
   },
   "source": [
    "https://gist.github.com/tvst/036da038ab3e999a64497f42de966a92\n",
    "\n",
    "https://docs.streamlit.io/en/stable/\n",
    "\n",
    "https://docs.streamlit.io/en/stable/deploy_streamlit_app.html\n",
    "\n",
    "https://docs.streamlit.io/en/stable/streamlit_configuration.html\n",
    "\n",
    "https://scikit-learn.org/stable/modules/generated/sklearn.linear_model.LogisticRegression.html\n",
    "\n",
    "https://discuss.streamlit.io/t/reset-radio-button-value-after-pushing-button/2618\n",
    "\n",
    "https://medium.com/analytics-vidhya/heart-disease-prediction-with-machine-learning-d22bc924d8ab\n",
    "\n",
    "https://discuss.streamlit.io/t/multi-page-app-with-session-state/3074\n",
    "\n",
    "https://discuss.streamlit.io"
   ]
  },
  {
   "cell_type": "markdown",
   "metadata": {
    "colab_type": "text",
    "id": "qe-ObfH2pGOH"
   },
   "source": [
    "\n",
    "**Disclaimer!** <font color='grey'>This notebook was prepared by Harun BURKUK and Muhammet SUBASI as an assigment for the *BBM467 - Data Intensive Applications* class. The notebook is available for educational purposes only. There is no guarantee on the correctness of the content provided as it is a student work.\n",
    "\n",
    "If you think there is any copyright violation, please let us [know](https://forms.gle/BNNRB2kR8ZHVEREq8). \n",
    "</font>"
   ]
  },
  {
   "cell_type": "code",
   "execution_count": null,
   "metadata": {},
   "outputs": [],
   "source": []
  }
 ],
 "metadata": {
  "colab": {
   "name": "bbm469_hw3_template.ipynb",
   "provenance": []
  },
  "kernelspec": {
   "display_name": "Python 3",
   "language": "python",
   "name": "python3"
  },
  "language_info": {
   "codemirror_mode": {
    "name": "ipython",
    "version": 3
   },
   "file_extension": ".py",
   "mimetype": "text/x-python",
   "name": "python",
   "nbconvert_exporter": "python",
   "pygments_lexer": "ipython3",
   "version": "3.8.5"
  }
 },
 "nbformat": 4,
 "nbformat_minor": 1
}
